{
 "cells": [
  {
   "cell_type": "markdown",
   "id": "fbd16d48",
   "metadata": {},
   "source": [
    "# Exploring Columns"
   ]
  },
  {
   "cell_type": "code",
   "execution_count": 1,
   "id": "9a34c6a9",
   "metadata": {},
   "outputs": [],
   "source": [
    "# Importing the necessary tables\n",
    "import findspark\n",
    "import pyspark\n",
    "\n",
    "from pyspark.sql import SparkSession, Row\n",
    "from pyspark.sql.functions import to_date, col, column, expr, dayofmonth, month, year\n",
    "from pyspark.sql.types import StructType, StructField, DateType, StringType"
   ]
  },
  {
   "cell_type": "code",
   "execution_count": 2,
   "id": "00d63905",
   "metadata": {},
   "outputs": [],
   "source": [
    "findspark.init()"
   ]
  },
  {
   "cell_type": "code",
   "execution_count": 3,
   "id": "e6a35296",
   "metadata": {},
   "outputs": [],
   "source": [
    "spark = SparkSession.builder.getOrCreate()"
   ]
  },
  {
   "cell_type": "code",
   "execution_count": 4,
   "id": "5c4c2f3f",
   "metadata": {},
   "outputs": [
    {
     "name": "stdout",
     "output_type": "stream",
     "text": [
      "+-------------------+----------+-----------------+------+----------------+----+--------------------+------------+--------+---------+-------+------------+--------+---------+--------+\n",
      "|            FL_DATE|OP_CARRIER|OP_CARRIER_FL_NUM|ORIGIN|ORIGIN_CITY_NAME|DEST|      DEST_CITY_NAME|CRS_DEP_TIME|DEP_TIME|WHEELS_ON|TAXI_IN|CRS_ARR_TIME|ARR_TIME|CANCELLED|DISTANCE|\n",
      "+-------------------+----------+-----------------+------+----------------+----+--------------------+------------+--------+---------+-------+------------+--------+---------+--------+\n",
      "|2000-01-01 00:00:00|        AA|             1407|   BHM|  Birmingham, AL| DFW|Dallas/Fort Worth...|        1256|    1252|     1447|     13|        1500|    1500|        0|     597|\n",
      "|2000-01-01 00:00:00|        AA|             1689|   BHM|  Birmingham, AL| DFW|Dallas/Fort Worth...|        1556|    1556|     1745|     12|        1800|    1757|        0|     597|\n",
      "|2000-01-01 00:00:00|        AA|             1939|   BHM|  Birmingham, AL| DFW|Dallas/Fort Worth...|         610|     603|      753|     11|         814|     804|        0|     597|\n",
      "|2000-01-02 00:00:00|        AA|             1407|   BHM|  Birmingham, AL| DFW|Dallas/Fort Worth...|        1256|    1259|     1500|     10|        1500|    1510|        0|     597|\n",
      "|2000-01-02 00:00:00|        AA|             1689|   BHM|  Birmingham, AL| DFW|Dallas/Fort Worth...|        1556|    1555|     1744|     12|        1800|    1756|        0|     597|\n",
      "+-------------------+----------+-----------------+------+----------------+----+--------------------+------------+--------+---------+-------+------------+--------+---------+--------+\n",
      "only showing top 5 rows\n",
      "\n"
     ]
    }
   ],
   "source": [
    "# Reading all data\n",
    "airlineDF = spark.read\\\n",
    "                .format('csv')\\\n",
    "                .option('header', True)\\\n",
    "                .option('inferSchema', True)\\\n",
    "                .option('samplingRatio', 0.0001)\\\n",
    "                .load('Spark-warehouse/airline_db.db/flight_data_tbl/')\n",
    "airlineDF.show(5)"
   ]
  },
  {
   "cell_type": "code",
   "execution_count": 5,
   "id": "9f1d0e2c",
   "metadata": {},
   "outputs": [],
   "source": [
    "# Reading just one partition\n",
    "airlineDF = spark.read\\\n",
    "                .format('csv')\\\n",
    "                .option('header', True)\\\n",
    "                .option('inferSchema', True)\\\n",
    "                .option('samplingRatio', 0.0001)\\\n",
    "                .load('Spark-warehouse/airline_db.db/flight_data_tbl/part-00000-64b3c6f7-d6b0-4d42-9dfb-90ab8a7423f8_00000.c000.csv')"
   ]
  },
  {
   "cell_type": "code",
   "execution_count": 6,
   "id": "2995facb",
   "metadata": {},
   "outputs": [
    {
     "data": {
      "text/plain": [
       "(pyspark.sql.dataframe.DataFrame, 15)"
      ]
     },
     "execution_count": 6,
     "metadata": {},
     "output_type": "execute_result"
    }
   ],
   "source": [
    "type(airlineDF), len(airlineDF.columns)"
   ]
  },
  {
   "cell_type": "code",
   "execution_count": 7,
   "id": "2f42fb4d",
   "metadata": {},
   "outputs": [
    {
     "name": "stdout",
     "output_type": "stream",
     "text": [
      "+-------------------+----------+-----------------+------+----------------+----+--------------------+------------+--------+---------+-------+------------+--------+---------+--------+\n",
      "|            FL_DATE|OP_CARRIER|OP_CARRIER_FL_NUM|ORIGIN|ORIGIN_CITY_NAME|DEST|      DEST_CITY_NAME|CRS_DEP_TIME|DEP_TIME|WHEELS_ON|TAXI_IN|CRS_ARR_TIME|ARR_TIME|CANCELLED|DISTANCE|\n",
      "+-------------------+----------+-----------------+------+----------------+----+--------------------+------------+--------+---------+-------+------------+--------+---------+--------+\n",
      "|2000-01-01 00:00:00|        AA|              438|   ABQ| Albuquerque, NM| DFW|Dallas/Fort Worth...|         914|     911|     1133|     12|        1157|    1145|        0|     569|\n",
      "|2000-01-01 00:00:00|        AA|             1166|   ABQ| Albuquerque, NM| DFW|Dallas/Fort Worth...|        1650|    1643|     1915|     13|        1931|    1928|        0|     569|\n",
      "+-------------------+----------+-----------------+------+----------------+----+--------------------+------------+--------+---------+-------+------------+--------+---------+--------+\n",
      "only showing top 2 rows\n",
      "\n"
     ]
    }
   ],
   "source": [
    "airlineDF.show(2)"
   ]
  },
  {
   "cell_type": "markdown",
   "id": "93ad8ded",
   "metadata": {},
   "source": [
    "## Accessing the columns\n",
    "\n",
    "* Column string\n",
    "* Column object"
   ]
  },
  {
   "cell_type": "code",
   "execution_count": 8,
   "id": "5c54cb0d",
   "metadata": {},
   "outputs": [
    {
     "name": "stdout",
     "output_type": "stream",
     "text": [
      "['FL_DATE', 'OP_CARRIER', 'OP_CARRIER_FL_NUM', 'ORIGIN', 'ORIGIN_CITY_NAME', 'DEST', 'DEST_CITY_NAME', 'CRS_DEP_TIME', 'DEP_TIME', 'WHEELS_ON', 'TAXI_IN', 'CRS_ARR_TIME', 'ARR_TIME', 'CANCELLED', 'DISTANCE']\n"
     ]
    }
   ],
   "source": [
    "print(airlineDF.columns)"
   ]
  },
  {
   "cell_type": "code",
   "execution_count": 9,
   "id": "1397d28b",
   "metadata": {},
   "outputs": [
    {
     "name": "stdout",
     "output_type": "stream",
     "text": [
      "root\n",
      " |-- FL_DATE: timestamp (nullable = true)\n",
      " |-- OP_CARRIER: string (nullable = true)\n",
      " |-- OP_CARRIER_FL_NUM: integer (nullable = true)\n",
      " |-- ORIGIN: string (nullable = true)\n",
      " |-- ORIGIN_CITY_NAME: string (nullable = true)\n",
      " |-- DEST: string (nullable = true)\n",
      " |-- DEST_CITY_NAME: string (nullable = true)\n",
      " |-- CRS_DEP_TIME: integer (nullable = true)\n",
      " |-- DEP_TIME: integer (nullable = true)\n",
      " |-- WHEELS_ON: integer (nullable = true)\n",
      " |-- TAXI_IN: integer (nullable = true)\n",
      " |-- CRS_ARR_TIME: integer (nullable = true)\n",
      " |-- ARR_TIME: integer (nullable = true)\n",
      " |-- CANCELLED: integer (nullable = true)\n",
      " |-- DISTANCE: integer (nullable = true)\n",
      "\n"
     ]
    }
   ],
   "source": [
    "airlineDF.printSchema()"
   ]
  },
  {
   "cell_type": "code",
   "execution_count": 10,
   "id": "9b9c2f09",
   "metadata": {},
   "outputs": [
    {
     "name": "stdout",
     "output_type": "stream",
     "text": [
      "+------+----+--------+\n",
      "|Origin|Dest|Distance|\n",
      "+------+----+--------+\n",
      "|   ABQ| DFW|     569|\n",
      "|   ABQ| DFW|     569|\n",
      "+------+----+--------+\n",
      "only showing top 2 rows\n",
      "\n"
     ]
    }
   ],
   "source": [
    "# Accessing using column string - simplest method\n",
    "airlineDF.select('Origin', 'Dest', 'Distance').show(2)"
   ]
  },
  {
   "cell_type": "code",
   "execution_count": 11,
   "id": "ed31ef91",
   "metadata": {},
   "outputs": [
    {
     "name": "stdout",
     "output_type": "stream",
     "text": [
      "+------+----+--------+\n",
      "|Origin|Dest|Distance|\n",
      "+------+----+--------+\n",
      "|   ABQ| DFW|     569|\n",
      "|   ABQ| DFW|     569|\n",
      "+------+----+--------+\n",
      "only showing top 2 rows\n",
      "\n"
     ]
    }
   ],
   "source": [
    "# dir(airlineDF)\n",
    "# Accessing the column using the column object\n",
    "airlineDF.select(column('Origin'), col('Dest'), airlineDF['Distance']).show(2)"
   ]
  },
  {
   "cell_type": "markdown",
   "id": "5d453ec7",
   "metadata": {},
   "source": [
    "## Columns expressions\n",
    "\n",
    "* String Expressions or SQL Expressions\n",
    "* Column Object Expressions\n",
    "\n",
    "Help: https://spark.apache.org/docs/latest/api/python/reference/pyspark.sql/functions.html"
   ]
  },
  {
   "cell_type": "code",
   "execution_count": 12,
   "id": "fe774e36",
   "metadata": {},
   "outputs": [
    {
     "name": "stdout",
     "output_type": "stream",
     "text": [
      "+------+----+--------+-------------------+---+-----+----+\n",
      "|Origin|Dest|Distance|            FL_DATE|Day|Month|Year|\n",
      "+------+----+--------+-------------------+---+-----+----+\n",
      "|   ABQ| DFW|     569|2000-01-01 00:00:00|  1|    1|2000|\n",
      "|   ABQ| DFW|     569|2000-01-01 00:00:00|  1|    1|2000|\n",
      "|   ABQ| DFW|     569|2000-01-01 00:00:00|  1|    1|2000|\n",
      "|   ABQ| DFW|     569|2000-01-01 00:00:00|  1|    1|2000|\n",
      "|   ABQ| DFW|     569|2000-01-02 00:00:00|  2|    1|2000|\n",
      "|   ABQ| DFW|     569|2000-01-02 00:00:00|  2|    1|2000|\n",
      "|   ABQ| DFW|     569|2000-01-02 00:00:00|  2|    1|2000|\n",
      "|   ABQ| DFW|     569|2000-01-02 00:00:00|  2|    1|2000|\n",
      "|   ABQ| DFW|     569|2000-01-02 00:00:00|  2|    1|2000|\n",
      "|   ABQ| DFW|     569|2000-01-02 00:00:00|  2|    1|2000|\n",
      "+------+----+--------+-------------------+---+-----+----+\n",
      "only showing top 10 rows\n",
      "\n"
     ]
    }
   ],
   "source": [
    "# Using string Expressions or SQL Expressions\n",
    "airlineDF.select('Origin', 'Dest', 'Distance', 'FL_DATE', \n",
    "                 expr('day(FL_DATE) as Day'),\n",
    "                 expr('month(FL_DATE) as Month'),\n",
    "                 expr('year(FL_DATE) as Year')).show(10)"
   ]
  },
  {
   "cell_type": "code",
   "execution_count": 13,
   "id": "a3a68b38",
   "metadata": {},
   "outputs": [
    {
     "name": "stdout",
     "output_type": "stream",
     "text": [
      "+------+----+--------+-------------------+---+-----+----+\n",
      "|Origin|Dest|Distance|            FL_DATE|Day|Month|Year|\n",
      "+------+----+--------+-------------------+---+-----+----+\n",
      "|   ABQ| DFW|     569|2000-01-01 00:00:00|  1|    1|2000|\n",
      "|   ABQ| DFW|     569|2000-01-01 00:00:00|  1|    1|2000|\n",
      "|   ABQ| DFW|     569|2000-01-01 00:00:00|  1|    1|2000|\n",
      "|   ABQ| DFW|     569|2000-01-01 00:00:00|  1|    1|2000|\n",
      "|   ABQ| DFW|     569|2000-01-02 00:00:00|  2|    1|2000|\n",
      "|   ABQ| DFW|     569|2000-01-02 00:00:00|  2|    1|2000|\n",
      "|   ABQ| DFW|     569|2000-01-02 00:00:00|  2|    1|2000|\n",
      "|   ABQ| DFW|     569|2000-01-02 00:00:00|  2|    1|2000|\n",
      "|   ABQ| DFW|     569|2000-01-02 00:00:00|  2|    1|2000|\n",
      "|   ABQ| DFW|     569|2000-01-02 00:00:00|  2|    1|2000|\n",
      "+------+----+--------+-------------------+---+-----+----+\n",
      "only showing top 10 rows\n",
      "\n"
     ]
    }
   ],
   "source": [
    "# Using column expressions\n",
    "airlineDF.select(column('Origin'), col('Dest'), airlineDF['Distance'], airlineDF['FL_DATE'], \n",
    "                 dayofmonth(airlineDF['FL_DATE']).alias('Day'),\n",
    "                 month(airlineDF['FL_DATE']).alias('Month'),\n",
    "                 year(airlineDF['FL_DATE']).alias('Year')).show(10)"
   ]
  },
  {
   "cell_type": "code",
   "execution_count": 14,
   "id": "b27aca52",
   "metadata": {},
   "outputs": [],
   "source": [
    "spark.stop()"
   ]
  },
  {
   "cell_type": "code",
   "execution_count": null,
   "id": "0433bbcd",
   "metadata": {},
   "outputs": [],
   "source": []
  }
 ],
 "metadata": {
  "kernelspec": {
   "display_name": "Python 3 (ipykernel)",
   "language": "python",
   "name": "python3"
  },
  "language_info": {
   "codemirror_mode": {
    "name": "ipython",
    "version": 3
   },
   "file_extension": ".py",
   "mimetype": "text/x-python",
   "name": "python",
   "nbconvert_exporter": "python",
   "pygments_lexer": "ipython3",
   "version": "3.10.6"
  }
 },
 "nbformat": 4,
 "nbformat_minor": 5
}
