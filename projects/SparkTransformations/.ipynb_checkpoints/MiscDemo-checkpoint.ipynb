{
 "cells": [
  {
   "cell_type": "code",
   "execution_count": 1,
   "id": "f66afa1d",
   "metadata": {},
   "outputs": [],
   "source": [
    "# Importing the necessary tables\n",
    "import findspark\n",
    "import pyspark\n",
    "\n",
    "from pyspark.sql import SparkSession, Row\n",
    "from pyspark.sql.functions import to_date, col, column, expr, dayofmonth, month, \\\n",
    "    year, monotonically_increasing_id, when, exp, desc\n",
    "from pyspark.sql.types import StructType, StructField, DateType, StringType, IntegerType"
   ]
  },
  {
   "cell_type": "code",
   "execution_count": 2,
   "id": "33ffa5e9",
   "metadata": {},
   "outputs": [],
   "source": [
    "findspark.init()"
   ]
  },
  {
   "cell_type": "code",
   "execution_count": 3,
   "id": "6f0be694",
   "metadata": {},
   "outputs": [],
   "source": [
    "spark = SparkSession.builder.master('local[3]').appName('MiscDemo').getOrCreate()"
   ]
  },
  {
   "cell_type": "code",
   "execution_count": 4,
   "id": "fb4ffead",
   "metadata": {},
   "outputs": [
    {
     "name": "stdout",
     "output_type": "stream",
     "text": [
      "+-----+---+---+----+\n",
      "|   _1| _2| _3|  _4|\n",
      "+-----+---+---+----+\n",
      "| Ravi| 28|  1|2002|\n",
      "|Abdul| 23|  5|  81|\n",
      "| John| 12| 12|   6|\n",
      "| Rosy|  7|  8|  63|\n",
      "|Abdul| 23|  5|  81|\n",
      "+-----+---+---+----+\n",
      "\n",
      "root\n",
      " |-- _1: string (nullable = true)\n",
      " |-- _2: long (nullable = true)\n",
      " |-- _3: long (nullable = true)\n",
      " |-- _4: long (nullable = true)\n",
      "\n"
     ]
    }
   ],
   "source": [
    "data_list = [ # Name, day, month, year\n",
    "    ('Ravi', 28, 1, 2002),\n",
    "    ('Abdul', 23, 5, 81),\n",
    "    ('John', 12, 12, 6),\n",
    "    ('Rosy', 7, 8, 63),\n",
    "    ('Abdul', 23, 5, 81)\n",
    "]\n",
    "\n",
    "# No names in the columns\n",
    "raw_df = spark.createDataFrame(data_list)\n",
    "raw_df.show()\n",
    "raw_df.printSchema()"
   ]
  },
  {
   "cell_type": "code",
   "execution_count": 5,
   "id": "577416d3",
   "metadata": {},
   "outputs": [
    {
     "name": "stdout",
     "output_type": "stream",
     "text": [
      "+-----+---+-----+----+\n",
      "| name|day|month|year|\n",
      "+-----+---+-----+----+\n",
      "| Ravi| 28|    1|2002|\n",
      "|Abdul| 23|    5|  81|\n",
      "| John| 12|   12|   6|\n",
      "| Rosy|  7|    8|  63|\n",
      "|Abdul| 23|    5|  81|\n",
      "+-----+---+-----+----+\n",
      "\n",
      "root\n",
      " |-- name: string (nullable = true)\n",
      " |-- day: long (nullable = true)\n",
      " |-- month: long (nullable = true)\n",
      " |-- year: long (nullable = true)\n",
      "\n"
     ]
    }
   ],
   "source": [
    "# Try it again, and names to the columns\n",
    "raw_df = spark.createDataFrame(data_list).toDF('name', 'day','month', 'year')\n",
    "raw_df.show()\n",
    "raw_df.printSchema()"
   ]
  },
  {
   "cell_type": "markdown",
   "id": "b53d7e58",
   "metadata": {},
   "source": [
    "# Let's prepare a new example | Unique identifier"
   ]
  },
  {
   "cell_type": "code",
   "execution_count": 6,
   "id": "1cfe1ac7",
   "metadata": {},
   "outputs": [
    {
     "name": "stdout",
     "output_type": "stream",
     "text": [
      "+-----+---+-----+----+\n",
      "| name|day|month|year|\n",
      "+-----+---+-----+----+\n",
      "|Abdul| 23|    5|  81|\n",
      "| Ravi| 28|    1|2002|\n",
      "|Abdul| 23|    5|  81|\n",
      "| John| 12|   12|   6|\n",
      "| Rosy|  7|    8|  63|\n",
      "+-----+---+-----+----+\n",
      "\n",
      "root\n",
      " |-- name: string (nullable = true)\n",
      " |-- day: string (nullable = true)\n",
      " |-- month: string (nullable = true)\n",
      " |-- year: string (nullable = true)\n",
      "\n"
     ]
    }
   ],
   "source": [
    "data_list = [ # Name, day, month, year\n",
    "    ('Ravi', '28', '1', '2002'),\n",
    "    ('Abdul', '23', '5', '81'),\n",
    "    ('John', '12', '12', '6'),\n",
    "    ('Rosy', '7', '8', '63'),\n",
    "    ('Abdul', '23', '5', '81')\n",
    "]\n",
    "\n",
    "# No names in the columns\n",
    "raw_df = spark.createDataFrame(data_list).toDF('name', 'day','month', 'year').repartition(3)\n",
    "raw_df.show()\n",
    "raw_df.printSchema()"
   ]
  },
  {
   "cell_type": "code",
   "execution_count": 7,
   "id": "ccb75855",
   "metadata": {},
   "outputs": [
    {
     "name": "stdout",
     "output_type": "stream",
     "text": [
      "+-----+---+-----+----+-----------+\n",
      "| name|day|month|year|         id|\n",
      "+-----+---+-----+----+-----------+\n",
      "|Abdul| 23|    5|  81|          0|\n",
      "| Ravi| 28|    1|2002| 8589934592|\n",
      "|Abdul| 23|    5|  81| 8589934593|\n",
      "| John| 12|   12|   6|17179869184|\n",
      "| Rosy|  7|    8|  63|17179869185|\n",
      "+-----+---+-----+----+-----------+\n",
      "\n"
     ]
    }
   ],
   "source": [
    "df1 = raw_df.withColumn('id', monotonically_increasing_id())\n",
    "df1.show()"
   ]
  },
  {
   "cell_type": "markdown",
   "id": "5ec4ea9b",
   "metadata": {},
   "source": [
    "# Switch case to fix the year format"
   ]
  },
  {
   "cell_type": "code",
   "execution_count": 8,
   "id": "ccc8860b",
   "metadata": {},
   "outputs": [
    {
     "name": "stdout",
     "output_type": "stream",
     "text": [
      "+-----+---+-----+------+-----------+\n",
      "| name|day|month|  year|         id|\n",
      "+-----+---+-----+------+-----------+\n",
      "|Abdul| 23|    5|1981.0|          0|\n",
      "| Ravi| 28|    1|  2002| 8589934592|\n",
      "|Abdul| 23|    5|1981.0| 8589934593|\n",
      "| John| 12|   12|2006.0|17179869184|\n",
      "| Rosy|  7|    8|1963.0|17179869185|\n",
      "+-----+---+-----+------+-----------+\n",
      "\n",
      "root\n",
      " |-- name: string (nullable = true)\n",
      " |-- day: string (nullable = true)\n",
      " |-- month: string (nullable = true)\n",
      " |-- year: string (nullable = true)\n",
      " |-- id: long (nullable = false)\n",
      "\n"
     ]
    }
   ],
   "source": [
    "df2 = df1.withColumn('year', expr('''\n",
    "            case when year < 21 then year + 2000\n",
    "            when year < 100 then year + 1900\n",
    "            else year\n",
    "            end\n",
    "        '''))\n",
    "df2.show()\n",
    "df2.printSchema()"
   ]
  },
  {
   "cell_type": "markdown",
   "id": "e7affe37",
   "metadata": {},
   "source": [
    "## Approaches to fix data type\n",
    "\n",
    "* Inline Cast\n",
    "* Change the schema"
   ]
  },
  {
   "cell_type": "code",
   "execution_count": 9,
   "id": "0aca248a",
   "metadata": {},
   "outputs": [
    {
     "name": "stdout",
     "output_type": "stream",
     "text": [
      "+-----+---+-----+----+-----------+\n",
      "| name|day|month|year|         id|\n",
      "+-----+---+-----+----+-----------+\n",
      "|Abdul| 23|    5|1981|          0|\n",
      "| Ravi| 28|    1|2002| 8589934592|\n",
      "|Abdul| 23|    5|1981| 8589934593|\n",
      "| John| 12|   12|2006|17179869184|\n",
      "| Rosy|  7|    8|1963|17179869185|\n",
      "+-----+---+-----+----+-----------+\n",
      "\n",
      "root\n",
      " |-- name: string (nullable = true)\n",
      " |-- day: string (nullable = true)\n",
      " |-- month: string (nullable = true)\n",
      " |-- year: integer (nullable = true)\n",
      " |-- id: long (nullable = false)\n",
      "\n"
     ]
    }
   ],
   "source": [
    "# Inline cast\n",
    "df3 = df1.withColumn('year', expr('''\n",
    "            case when year < 21 then cast(year as int) + 2000\n",
    "            when year < 100 then cast(year as int) + 1900\n",
    "            else cast(year as int)\n",
    "            end\n",
    "        '''))\n",
    "df3.show()\n",
    "df3.printSchema()"
   ]
  },
  {
   "cell_type": "code",
   "execution_count": 10,
   "id": "ea3bd17b",
   "metadata": {},
   "outputs": [
    {
     "name": "stdout",
     "output_type": "stream",
     "text": [
      "+-----+---+-----+----+-----------+\n",
      "| name|day|month|year|         id|\n",
      "+-----+---+-----+----+-----------+\n",
      "|Abdul| 23|    5|1981|          0|\n",
      "| Ravi| 28|    1|2002| 8589934592|\n",
      "|Abdul| 23|    5|1981| 8589934593|\n",
      "| John| 12|   12|2006|17179869184|\n",
      "| Rosy|  7|    8|1963|17179869185|\n",
      "+-----+---+-----+----+-----------+\n",
      "\n",
      "root\n",
      " |-- name: string (nullable = true)\n",
      " |-- day: string (nullable = true)\n",
      " |-- month: string (nullable = true)\n",
      " |-- year: integer (nullable = true)\n",
      " |-- id: long (nullable = false)\n",
      "\n"
     ]
    }
   ],
   "source": [
    "# Changing the schema\n",
    "df4 = df1.withColumn('year', expr('''\n",
    "            case when year < 21 then year + 2000\n",
    "            when year < 100 then year + 1900\n",
    "            else year\n",
    "            end\n",
    "        ''').cast(IntegerType()))\n",
    "df4.show()\n",
    "df4.printSchema()"
   ]
  },
  {
   "cell_type": "code",
   "execution_count": 11,
   "id": "077a49f2",
   "metadata": {},
   "outputs": [
    {
     "name": "stdout",
     "output_type": "stream",
     "text": [
      "+-----+---+-----+----+-----------+\n",
      "| name|day|month|year|         id|\n",
      "+-----+---+-----+----+-----------+\n",
      "|Abdul| 23|    5|  81|          0|\n",
      "| Ravi| 28|    1|2002| 8589934592|\n",
      "|Abdul| 23|    5|  81| 8589934593|\n",
      "| John| 12|   12|   6|17179869184|\n",
      "| Rosy|  7|    8|  63|17179869185|\n",
      "+-----+---+-----+----+-----------+\n",
      "\n",
      "root\n",
      " |-- name: string (nullable = true)\n",
      " |-- day: integer (nullable = true)\n",
      " |-- month: integer (nullable = true)\n",
      " |-- year: integer (nullable = true)\n",
      " |-- id: long (nullable = false)\n",
      "\n"
     ]
    }
   ],
   "source": [
    "# Casting all the 3 fields: day, month, year\n",
    "df5 = df1.withColumn('day', col('day').cast(IntegerType()))\\\n",
    "         .withColumn('month', col('month').cast(IntegerType()))\\\n",
    "         .withColumn('year', col('year').cast(IntegerType()))\\\n",
    "\n",
    "df5.show()\n",
    "df5.printSchema()"
   ]
  },
  {
   "cell_type": "code",
   "execution_count": 12,
   "id": "ded55d46",
   "metadata": {},
   "outputs": [
    {
     "name": "stdout",
     "output_type": "stream",
     "text": [
      "+-----+---+-----+----+-----------+\n",
      "| name|day|month|year|         id|\n",
      "+-----+---+-----+----+-----------+\n",
      "|Abdul| 23|    5|1981|          0|\n",
      "| Ravi| 28|    1|2002| 8589934592|\n",
      "|Abdul| 23|    5|1981| 8589934593|\n",
      "| John| 12|   12|2006|17179869184|\n",
      "| Rosy|  7|    8|1963|17179869185|\n",
      "+-----+---+-----+----+-----------+\n",
      "\n",
      "root\n",
      " |-- name: string (nullable = true)\n",
      " |-- day: integer (nullable = true)\n",
      " |-- month: integer (nullable = true)\n",
      " |-- year: integer (nullable = true)\n",
      " |-- id: long (nullable = false)\n",
      "\n"
     ]
    }
   ],
   "source": [
    "df6 = df5.withColumn('year', expr('''\n",
    "            case when year < 21 then year + 2000\n",
    "            when year < 100 then year + 1900\n",
    "            else year\n",
    "            end\n",
    "        '''))\n",
    "df6.show()\n",
    "df6.printSchema()"
   ]
  },
  {
   "cell_type": "code",
   "execution_count": 13,
   "id": "377b46cb",
   "metadata": {},
   "outputs": [
    {
     "name": "stdout",
     "output_type": "stream",
     "text": [
      "+-----+---+-----+----+-----------+\n",
      "| name|day|month|year|         id|\n",
      "+-----+---+-----+----+-----------+\n",
      "|Abdul| 23|    5|1981|          0|\n",
      "| Ravi| 28|    1|2002| 8589934592|\n",
      "|Abdul| 23|    5|1981| 8589934593|\n",
      "| John| 12|   12|2006|17179869184|\n",
      "| Rosy|  7|    8|1963|17179869185|\n",
      "+-----+---+-----+----+-----------+\n",
      "\n",
      "root\n",
      " |-- name: string (nullable = true)\n",
      " |-- day: integer (nullable = true)\n",
      " |-- month: integer (nullable = true)\n",
      " |-- year: integer (nullable = true)\n",
      " |-- id: long (nullable = false)\n",
      "\n"
     ]
    }
   ],
   "source": [
    "df7 = df5.withColumn('year', when(col('year') < 21, col('year') + 2000)\\\n",
    "                             .when(col('year') < 100, col('year') + 1900)\\\n",
    "                             .otherwise(col('year')))\n",
    "df7.show()\n",
    "df7.printSchema()"
   ]
  },
  {
   "cell_type": "markdown",
   "id": "e3d3c8f3",
   "metadata": {},
   "source": [
    "# How to add/remove columns and duplicates"
   ]
  },
  {
   "cell_type": "code",
   "execution_count": 14,
   "id": "d0f28cbe",
   "metadata": {},
   "outputs": [
    {
     "name": "stdout",
     "output_type": "stream",
     "text": [
      "+-----+---+-----+----+-----------+----------+\n",
      "| name|day|month|year|         id|       dob|\n",
      "+-----+---+-----+----+-----------+----------+\n",
      "|Abdul| 23|    5|1981|          0|1981-05-23|\n",
      "| Ravi| 28|    1|2002| 8589934592|2002-01-28|\n",
      "|Abdul| 23|    5|1981| 8589934593|1981-05-23|\n",
      "| John| 12|   12|2006|17179869184|2006-12-12|\n",
      "| Rosy|  7|    8|1963|17179869185|1963-08-07|\n",
      "+-----+---+-----+----+-----------+----------+\n",
      "\n",
      "root\n",
      " |-- name: string (nullable = true)\n",
      " |-- day: integer (nullable = true)\n",
      " |-- month: integer (nullable = true)\n",
      " |-- year: integer (nullable = true)\n",
      " |-- id: long (nullable = false)\n",
      " |-- dob: date (nullable = true)\n",
      "\n"
     ]
    }
   ],
   "source": [
    "df8 = df7.withColumn('dob', expr(\"to_date(concat(day, '/', month, '/', year), 'd/M/y')\"))\n",
    "df8.show()\n",
    "df8.printSchema()"
   ]
  },
  {
   "cell_type": "code",
   "execution_count": 15,
   "id": "1e49ae4e",
   "metadata": {},
   "outputs": [
    {
     "name": "stdout",
     "output_type": "stream",
     "text": [
      "+-----+-----------+----------+\n",
      "| name|         id|       dob|\n",
      "+-----+-----------+----------+\n",
      "| John|17179869184|2006-12-12|\n",
      "| Ravi| 8589934592|2002-01-28|\n",
      "|Abdul|          0|1981-05-23|\n",
      "| Rosy|17179869185|1963-08-07|\n",
      "+-----+-----------+----------+\n",
      "\n",
      "root\n",
      " |-- name: string (nullable = true)\n",
      " |-- id: long (nullable = false)\n",
      " |-- dob: date (nullable = true)\n",
      "\n"
     ]
    }
   ],
   "source": [
    "# Drop duplicated rows and unnecessary cols\n",
    "df9 = df7.withColumn('dob', to_date(expr(\"concat(day, '/', month, '/', year)\"), 'd/M/y'))\\\n",
    "         .drop('day', 'month', 'year')\\\n",
    "         .dropDuplicates(['name', 'dob'])\\\n",
    "         .sort(desc('dob'))\n",
    "df9.show()\n",
    "df9.printSchema()"
   ]
  },
  {
   "cell_type": "code",
   "execution_count": 16,
   "id": "f8f8cf16",
   "metadata": {},
   "outputs": [],
   "source": [
    "spark.stop()"
   ]
  },
  {
   "cell_type": "code",
   "execution_count": null,
   "id": "615909d5",
   "metadata": {},
   "outputs": [],
   "source": []
  }
 ],
 "metadata": {
  "kernelspec": {
   "display_name": "Python 3 (ipykernel)",
   "language": "python",
   "name": "python3"
  },
  "language_info": {
   "codemirror_mode": {
    "name": "ipython",
    "version": 3
   },
   "file_extension": ".py",
   "mimetype": "text/x-python",
   "name": "python",
   "nbconvert_exporter": "python",
   "pygments_lexer": "ipython3",
   "version": "3.10.6"
  }
 },
 "nbformat": 4,
 "nbformat_minor": 5
}
