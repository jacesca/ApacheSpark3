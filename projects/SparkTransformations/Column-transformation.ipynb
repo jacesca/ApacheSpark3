{
 "cells": [
  {
   "cell_type": "code",
   "execution_count": 1,
   "id": "1cef1ea7",
   "metadata": {},
   "outputs": [],
   "source": [
    "# Importing the necessary tables\n",
    "import findspark\n",
    "import pyspark\n",
    "\n",
    "from pyspark.sql import SparkSession, Row\n",
    "from pyspark.sql.functions import to_date, col\n",
    "from pyspark.sql.types import StructType, StructField, DateType, StringType"
   ]
  },
  {
   "cell_type": "code",
   "execution_count": 2,
   "id": "f28686db",
   "metadata": {},
   "outputs": [],
   "source": [
    "findspark.init()"
   ]
  },
  {
   "cell_type": "code",
   "execution_count": 3,
   "id": "983abcec",
   "metadata": {},
   "outputs": [],
   "source": [
    "spark = SparkSession.builder.getOrCreate()"
   ]
  },
  {
   "cell_type": "code",
   "execution_count": 4,
   "id": "0876e49b",
   "metadata": {},
   "outputs": [],
   "source": [
    "# Defining a transformation function\n",
    "def to_date_df(df, fmt, fld):\n",
    "    return df.withColumn(fld, to_date(col(fld), fmt))"
   ]
  },
  {
   "cell_type": "code",
   "execution_count": 5,
   "id": "4d2796f5",
   "metadata": {},
   "outputs": [],
   "source": [
    "# Creating a database to test\n",
    "my_schema = StructType([\n",
    "    StructField('ID', StringType()),\n",
    "    StructField('EventDate', StringType())\n",
    "])\n",
    "\n",
    "my_rows = [Row('123', '04/05/2020'),\n",
    "           Row('124', '4/5/2020'),\n",
    "           Row('125', '04/5/2020'),\n",
    "           Row('126', '4/05/2020')]\n",
    "my_rdd = spark.sparkContext.parallelize(my_rows, 2)\n",
    "my_df = spark.createDataFrame(my_rdd, my_schema)"
   ]
  },
  {
   "cell_type": "code",
   "execution_count": 6,
   "id": "c8644b4e",
   "metadata": {},
   "outputs": [
    {
     "name": "stdout",
     "output_type": "stream",
     "text": [
      "root\n",
      " |-- ID: string (nullable = true)\n",
      " |-- EventDate: string (nullable = true)\n",
      "\n",
      "+---+----------+\n",
      "| ID| EventDate|\n",
      "+---+----------+\n",
      "|123|04/05/2020|\n",
      "|124|  4/5/2020|\n",
      "|125| 04/5/2020|\n",
      "|126| 4/05/2020|\n",
      "+---+----------+\n",
      "\n"
     ]
    }
   ],
   "source": [
    "my_df.printSchema()\n",
    "my_df.show()"
   ]
  },
  {
   "cell_type": "code",
   "execution_count": 7,
   "id": "178a6348",
   "metadata": {},
   "outputs": [
    {
     "name": "stdout",
     "output_type": "stream",
     "text": [
      "root\n",
      " |-- ID: string (nullable = true)\n",
      " |-- EventDate: date (nullable = true)\n",
      "\n",
      "+---+----------+\n",
      "| ID| EventDate|\n",
      "+---+----------+\n",
      "|123|2020-04-05|\n",
      "|124|2020-04-05|\n",
      "|125|2020-04-05|\n",
      "|126|2020-04-05|\n",
      "+---+----------+\n",
      "\n"
     ]
    }
   ],
   "source": [
    "new_df = to_date_df(my_df, 'M/d/y', 'EventDate')\n",
    "new_df.printSchema()\n",
    "new_df.show()"
   ]
  },
  {
   "cell_type": "code",
   "execution_count": 8,
   "id": "072c9187",
   "metadata": {},
   "outputs": [],
   "source": [
    "spark.stop()"
   ]
  },
  {
   "cell_type": "code",
   "execution_count": null,
   "id": "535a6b5d",
   "metadata": {},
   "outputs": [],
   "source": []
  }
 ],
 "metadata": {
  "kernelspec": {
   "display_name": "Python 3 (ipykernel)",
   "language": "python",
   "name": "python3"
  },
  "language_info": {
   "codemirror_mode": {
    "name": "ipython",
    "version": 3
   },
   "file_extension": ".py",
   "mimetype": "text/x-python",
   "name": "python",
   "nbconvert_exporter": "python",
   "pygments_lexer": "ipython3",
   "version": "3.10.6"
  }
 },
 "nbformat": 4,
 "nbformat_minor": 5
}
